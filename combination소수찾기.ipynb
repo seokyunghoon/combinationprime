{
 "cells": [
  {
   "cell_type": "markdown",
   "id": "e1667156-18b1-4017-abf2-167fdf95617a",
   "metadata": {},
   "source": [
    "#순열 조합을 만들기 위해 모듈을 import한다"
   ]
  },
  {
   "cell_type": "code",
   "execution_count": 22,
   "id": "673a48f5-853f-496d-8ee1-2cabb8d3bc31",
   "metadata": {},
   "outputs": [],
   "source": [
    "from itertools import combinations"
   ]
  },
  {
   "cell_type": "markdown",
   "id": "92edec1e-1b20-4e16-83ec-d71f3b459812",
   "metadata": {},
   "source": [
    "#iterable에 리스트나 튜블을 매개변수로 맏고 r에 조합의 길이를 받아 조합을 만드는 변수를 만든다"
   ]
  },
  {
   "cell_type": "code",
   "execution_count": 25,
   "id": "32c56d5d-e2a3-4bac-82cc-2d9229c6e3ef",
   "metadata": {},
   "outputs": [],
   "source": [
    "def get_combination(iterable, r):\n",
    "  return list(combinations(iterable, r))\n"
   ]
  },
  {
   "cell_type": "markdown",
   "id": "2e8b3fee-741d-4e60-8b71-aac0ff719549",
   "metadata": {},
   "source": [
    "#만들어진 각각의 조합안의 원소들의 합을 구하여 리스트에 넣는 함수를 만든다"
   ]
  },
  {
   "cell_type": "code",
   "execution_count": 28,
   "id": "98ad4e90-f48a-43ee-8e33-426e1864679d",
   "metadata": {},
   "outputs": [],
   "source": [
    "def solution(lists):\n",
    "  result_list = [sum(t) for t in lists]\n",
    "  return result_list"
   ]
  },
  {
   "cell_type": "markdown",
   "id": "bae8e5ca-1a61-4a15-b195-6a931c26c2f8",
   "metadata": {},
   "source": [
    "#리스트에서 소수를 찾는 함수를 만든다"
   ]
  },
  {
   "cell_type": "code",
   "execution_count": 31,
   "id": "9f8f2dbb-aa85-439f-b52e-f0a743ecda8c",
   "metadata": {},
   "outputs": [],
   "source": [
    "def prime(n):\n",
    "    for i in range(2, int(n**0.5) + 1):\n",
    "        if n % i == 0:\n",
    "            return False\n",
    "    return True"
   ]
  },
  {
   "cell_type": "markdown",
   "id": "0f1aabb2-acdb-45c8-a92e-5618dc8dd6b0",
   "metadata": {},
   "source": [
    "#찾은 소수를 primes 리스트에 넣는 함수를 만든다"
   ]
  },
  {
   "cell_type": "code",
   "execution_count": 34,
   "id": "ded339a3-a4f0-491b-83df-88c13e34ef9b",
   "metadata": {},
   "outputs": [],
   "source": [
    "def find_primes(numbers):\n",
    "    primes = [num for num in numbers if prime(num)]\n",
    "    return primes"
   ]
  },
  {
   "cell_type": "markdown",
   "id": "e60c7b16-e0ff-4441-9bca-ce6a77f973a1",
   "metadata": {},
   "source": [
    "#위에서 만든 함수들을 호출하고 찾은 소수의 개수를 출력한다"
   ]
  },
  {
   "cell_type": "code",
   "execution_count": 37,
   "id": "437ea22e-44ae-4c11-8188-af5e4626fbc4",
   "metadata": {},
   "outputs": [
    {
     "name": "stdout",
     "output_type": "stream",
     "text": [
      "1\n"
     ]
    }
   ],
   "source": [
    "elements = [1, 2, 3, 4]\n",
    "combo_length = 3\n",
    "result = get_combination(elements, combo_length)\n",
    "\n",
    "result1 = solution(result)\n",
    "\n",
    "primes = find_primes(result1)\n",
    "print(len(primes))"
   ]
  }
 ],
 "metadata": {
  "kernelspec": {
   "display_name": "anaconda-panel-2023.05-py310",
   "language": "python",
   "name": "conda-env-anaconda-panel-2023.05-py310-py"
  },
  "language_info": {
   "codemirror_mode": {
    "name": "ipython",
    "version": 3
   },
   "file_extension": ".py",
   "mimetype": "text/x-python",
   "name": "python",
   "nbconvert_exporter": "python",
   "pygments_lexer": "ipython3",
   "version": "3.11.5"
  }
 },
 "nbformat": 4,
 "nbformat_minor": 5
}
